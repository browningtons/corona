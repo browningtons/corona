{
 "cells": [
  {
   "cell_type": "markdown",
   "metadata": {},
   "source": [
    "# Get data about Corona Virus\n",
    "source = https://github.com/CSSEGISandData/COVID-19\n",
    "This data feeds this great dashboard: https://coronavirus.jhu.edu/map.html"
   ]
  },
  {
   "cell_type": "code",
   "execution_count": 12,
   "metadata": {},
   "outputs": [],
   "source": [
    "import pandas as pd\n",
    "import plotly.graph_objects as go\n",
    "import plotly.express as px\n",
    "import math\n",
    "import numpy as np\n",
    "\n",
    "import gspread\n",
    "from oauth2client.service_account import ServiceAccountCredentials\n",
    "import pygsheets\n",
    "from datetime import date, timedelta"
   ]
  },
  {
   "cell_type": "markdown",
   "metadata": {},
   "source": [
    "## Get data from John's Hopkins"
   ]
  },
  {
   "cell_type": "code",
   "execution_count": 13,
   "metadata": {},
   "outputs": [
    {
     "data": {
      "text/plain": [
       "'01-23-2020'"
      ]
     },
     "execution_count": 13,
     "metadata": {},
     "output_type": "execute_result"
    }
   ],
   "source": [
    "start_date = date(2020, 1, 22)\n",
    "end_date = date.today()\n",
    "\n",
    "day = timedelta(days=1)\n",
    "\n",
    "\"{date.month:02}-{date.day:02}-{date.year}\".format(date=start_date+day)"
   ]
  },
  {
   "cell_type": "code",
   "execution_count": 14,
   "metadata": {},
   "outputs": [],
   "source": [
    "dates_list = []\n",
    "\n",
    "mydate = start_date\n",
    "while mydate <= end_date:\n",
    "    dates_list.append(\"{date.month:02}-{date.day:02}-{date.year}\".format(date=mydate))\n",
    "    mydate += day"
   ]
  },
  {
   "cell_type": "code",
   "execution_count": null,
   "metadata": {},
   "outputs": [],
   "source": [
    "df_list = []\n",
    "\n",
    "for i in dates_list:\n",
    "    df = pd.read_html('https://github.com/CSSEGISandData/COVID-19/blob/master/csse_covid_19_data/csse_covid_19_daily_reports/{}.csv'.format(i))[0]\n",
    "    df['observation_date'] = i\n",
    "    df_list.append(df)"
   ]
  },
  {
   "cell_type": "code",
   "execution_count": null,
   "metadata": {},
   "outputs": [],
   "source": [
    "df = pd.concat(df_list, ignore_index=True, sort=False)"
   ]
  },
  {
   "cell_type": "code",
   "execution_count": null,
   "metadata": {},
   "outputs": [],
   "source": [
    "df_group = df.groupby(by=['Country/Region','observation_date']\n",
    "                      , as_index=False).agg({'Confirmed':'sum',\n",
    "                                             'Deaths':'sum',\n",
    "                                             'Recovered':'sum'})"
   ]
  },
  {
   "cell_type": "code",
   "execution_count": null,
   "metadata": {},
   "outputs": [],
   "source": [
    "country_dict = {'Iran (Islamic Republic of)':'Iran',\n",
    "                'Korea, South':'South Korea',\n",
    "                'Republic of Korea':'South Korea',\n",
    "                'Mainland China':'China',\n",
    "                'Czechia':'Czech Republic',\n",
    "                'Hong Kong SAR':'Hong Kong',\n",
    "                'Macao SAR':'Macau'}"
   ]
  },
  {
   "cell_type": "code",
   "execution_count": null,
   "metadata": {},
   "outputs": [],
   "source": [
    "df_group['Country/Region'] = df_group['Country/Region'].replace(country_dict)"
   ]
  },
  {
   "cell_type": "code",
   "execution_count": null,
   "metadata": {},
   "outputs": [],
   "source": [
    "df_group['observation_date'] = pd.to_datetime(df_group.observation_date)\n",
    "df_group.rename(columns={'Country/Region':'country'}, inplace=True)\n",
    "df_group = df_group.sort_values(by=['country','observation_date'])\n",
    "df_group['NormalizedStart'] = df_group.groupby(['country']).cumcount() + 1"
   ]
  },
  {
   "cell_type": "code",
   "execution_count": null,
   "metadata": {},
   "outputs": [],
   "source": [
    "df_group['NormalizedFirstDeath'] = df_group[df_group.Deaths > 0].groupby('country').cumcount() + 1\n",
    "df_group['NormalizedFirstDeath'] = df_group['NormalizedFirstDeath'].fillna(0)"
   ]
  },
  {
   "cell_type": "code",
   "execution_count": null,
   "metadata": {},
   "outputs": [],
   "source": [
    "df_group.iloc[:,-5:] = df_group.iloc[:,-5:].astype(int)"
   ]
  },
  {
   "cell_type": "code",
   "execution_count": null,
   "metadata": {},
   "outputs": [],
   "source": [
    "df_group['death_delta'] = df_group.Deaths.diff().fillna(0).astype(int)\n",
    "df_group['confirmed_delta'] = df_group.Confirmed.diff().fillna(0).astype(int)\n",
    "df_group.loc[df_group.NormalizedStart == 1, 'death_delta'] = 0\n",
    "df_group.loc[df_group.NormalizedStart == 1, 'confirmed_delta'] = 0"
   ]
  },
  {
   "cell_type": "code",
   "execution_count": null,
   "metadata": {},
   "outputs": [],
   "source": [
    "df_group = df_group.drop_duplicates(subset=['country','observation_date'])"
   ]
  },
  {
   "cell_type": "code",
   "execution_count": null,
   "metadata": {},
   "outputs": [],
   "source": [
    "df_daily_cases = df_group[df_group.country != 'China'].groupby('observation_date', as_index=False)['confirmed_delta'].sum()"
   ]
  },
  {
   "cell_type": "code",
   "execution_count": null,
   "metadata": {},
   "outputs": [],
   "source": [
    "df_daily_cases['rate_of_change'] = df_daily_cases.confirmed_delta.pct_change() + 1\n",
    "df_daily_cases['cases_3DMA'] = df_daily_cases.confirmed_delta.rolling(3).mean()\n",
    "df_daily_cases['rate_of_change_3DMA'] = df_daily_cases.cases_3DMA.pct_change() + 1\n",
    "df_daily_cases"
   ]
  },
  {
   "cell_type": "markdown",
   "metadata": {},
   "source": [
    "## Connect to and update Google sheets"
   ]
  },
  {
   "cell_type": "code",
   "execution_count": null,
   "metadata": {},
   "outputs": [],
   "source": [
    "pycred = pygsheets.authorize(service_file='/Users/paulbrown/Documents/credentials.json')\n",
    "#opening the gsheet and sheet you want to work with\n",
    "ss = pycred.open('Corona Virus Dataset')[0]\n",
    "#overwrite what is in the sheet with your df\n",
    "ss.set_dataframe(df_group,(1,1))"
   ]
  },
  {
   "cell_type": "code",
   "execution_count": null,
   "metadata": {},
   "outputs": [],
   "source": [
    "pycred = pygsheets.authorize(service_file='/Users/paulbrown/Documents/credentials.json')\n",
    "#opening the gsheet and sheet you want to work with\n",
    "ss = pycred.open('Corona Virus Dataset')[1]\n",
    "#overwrite what is in the sheet with your df\n",
    "ss.set_dataframe(df_daily_cases,(1,1))"
   ]
  }
 ],
 "metadata": {
  "kernelspec": {
   "display_name": "Python 3",
   "language": "python",
   "name": "python3"
  },
  "language_info": {
   "codemirror_mode": {
    "name": "ipython",
    "version": 3
   },
   "file_extension": ".py",
   "mimetype": "text/x-python",
   "name": "python",
   "nbconvert_exporter": "python",
   "pygments_lexer": "ipython3",
   "version": "3.7.6"
  }
 },
 "nbformat": 4,
 "nbformat_minor": 2
}
